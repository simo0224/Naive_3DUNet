{
 "cells": [
  {
   "cell_type": "code",
   "execution_count": 2,
   "metadata": {},
   "outputs": [
    {
     "name": "stdout",
     "output_type": "stream",
     "text": [
      "t1ce list:  99\n",
      "Mask list:  99\n"
     ]
    }
   ],
   "source": [
    "DATASET_PATH = \"/home/jincan/long_seg/3DUnet/Data/Imaging_for_3DUNet_single_new/train\"\n",
    "\n",
    "import glob\n",
    "import numpy as np\n",
    "\n",
    "t1ce_list = sorted(glob.glob(f\"{DATASET_PATH}/*/*image.nii.gz\"))\n",
    "mask_list = sorted(glob.glob(f\"{DATASET_PATH}/*/*mask.nii.gz\"))\n",
    "\n",
    "print(\"t1ce list: \", len(t1ce_list))\n",
    "print(\"Mask list: \", len(mask_list))"
   ]
  },
  {
   "cell_type": "code",
   "execution_count": 3,
   "metadata": {},
   "outputs": [
    {
     "name": "stderr",
     "output_type": "stream",
     "text": [
      "Preparing to stack, crop and save: 100%|██████████| 99/99 [4:34:35<00:00, 166.42s/file]     \n"
     ]
    }
   ],
   "source": [
    "import os\n",
    "from tqdm import tqdm\n",
    "import nibabel as nib\n",
    "from sklearn.preprocessing import MinMaxScaler\n",
    "import torch\n",
    "import torch.nn.functional as F\n",
    "\n",
    "\n",
    "base_dir = \"/home/jincan/long_seg/my3DUNet/Data/Brats2024/single_t1c_noCrop\"\n",
    "\n",
    "scaler = MinMaxScaler()\n",
    "for idx in tqdm(\n",
    "    range(len(t1ce_list)), desc=\"Preparing to stack, crop and save\", unit=\"file\"\n",
    "):\n",
    "    temp_image_t1ce = nib.load(t1ce_list[idx]).get_fdata()\n",
    "    shape = temp_image_t1ce.shape\n",
    "    temp_image_t1ce = scaler.fit_transform(\n",
    "        temp_image_t1ce.reshape(-1, temp_image_t1ce.shape[-1])\n",
    "    )\n",
    "    temp_image_t1ce = temp_image_t1ce.reshape(shape)\n",
    " \n",
    "    # temp_image_t2 = nib.load(t2_list[idx]).get_fdata()\n",
    "    # temp_image_t2 = scaler.fit_transform(\n",
    "    #     temp_image_t2.reshape(-1, temp_image_t2.shape[-1])\n",
    "    # ).reshape(temp_image_t2.shape)\n",
    " \n",
    "    # temp_image_flair = nib.load(flair_list[idx]).get_fdata()\n",
    "    # temp_image_flair = scaler.fit_transform(\n",
    "    #     temp_image_flair.reshape(-1, temp_image_flair.shape[-1])\n",
    "    # ).reshape(temp_image_flair.shape)\n",
    " \n",
    "    temp_mask = nib.load(mask_list[idx]).get_fdata()\n",
    " \n",
    "    # temp_combined_images = np.stack(\n",
    "    #     [temp_image_flair, temp_image_t1ce, temp_image_t2], axis=3\n",
    "    # )\n",
    "    temp_combined_images = np.expand_dims(temp_image_t1ce, 3)\n",
    " \n",
    "    # temp_combined_images = temp_combined_images[56:184, 56:184, 13:141]\n",
    "    # temp_mask = temp_mask[56:184, 56:184, 13:141]\n",
    " \n",
    "    val, counts = np.unique(temp_mask, return_counts=True)\n",
    " \n",
    "    # If a volume has less than 1% of mask, we simply ignore to reduce computation\n",
    "    # if (1 - (counts[0] / counts.sum())) > 0.001:\n",
    "    if True:\n",
    "        #         print(\"Saving Processed Images and Masks\")\n",
    "        temp_mask = F.one_hot(torch.tensor(temp_mask, dtype=torch.long), num_classes=4)\n",
    "        os.makedirs(f\"{base_dir}/images\", exist_ok=True)\n",
    "        os.makedirs(f\"{base_dir}/masks\", exist_ok=True)\n",
    " \n",
    "        np.save(\n",
    "            f\"{base_dir}/images/image_\"\n",
    "            + str(idx)\n",
    "            + \".npy\",\n",
    "            temp_combined_images,\n",
    "        )\n",
    "        np.save(\n",
    "            f\"{base_dir}/masks/mask_\"\n",
    "            + str(idx)\n",
    "            + \".npy\",\n",
    "            temp_mask,\n",
    "        )\n",
    " \n",
    "    else:\n",
    "        pass"
   ]
  },
  {
   "cell_type": "code",
   "execution_count": 3,
   "metadata": {},
   "outputs": [
    {
     "name": "stdout",
     "output_type": "stream",
     "text": [
      "600\n",
      "600\n"
     ]
    }
   ],
   "source": [
    "images_folder = f\"{base_dir}/images\"\n",
    "print(len(os.listdir(images_folder)))\n",
    " \n",
    "masks_folder = f\"{base_dir}/masks\"\n",
    "print(len(os.listdir(masks_folder)))"
   ]
  },
  {
   "cell_type": "code",
   "execution_count": 5,
   "metadata": {},
   "outputs": [
    {
     "name": "stderr",
     "output_type": "stream",
     "text": [
      "Copying files: 965 files [01:00,  3.18 files/s]"
     ]
    },
    {
     "ename": "OSError",
     "evalue": "[Errno 28] No space left on device: '/home/jincan/long_seg/my3DUNet/Data/Brats2024/single_t1c_noCrop/masks/mask_335.npy' -> '/home/jincan/long_seg/my3DUNet/Data/Brats2024/single_t1c_noCrop_1/train/masks/mask_335.npy'",
     "output_type": "error",
     "traceback": [
      "\u001b[0;31m---------------------------------------------------------------------------\u001b[0m",
      "\u001b[0;31mOSError\u001b[0m                                   Traceback (most recent call last)",
      "Cell \u001b[0;32mIn[5], line 6\u001b[0m\n\u001b[1;32m      2\u001b[0m input_folder \u001b[38;5;241m=\u001b[39m \u001b[38;5;124mf\u001b[39m\u001b[38;5;124m\"\u001b[39m\u001b[38;5;132;01m{\u001b[39;00mbase_dir\u001b[38;5;132;01m}\u001b[39;00m\u001b[38;5;124m/\u001b[39m\u001b[38;5;124m\"\u001b[39m\n\u001b[1;32m      4\u001b[0m output_folder \u001b[38;5;241m=\u001b[39m \u001b[38;5;124mf\u001b[39m\u001b[38;5;124m\"\u001b[39m\u001b[38;5;132;01m{\u001b[39;00mbase_dir\u001b[38;5;132;01m}\u001b[39;00m\u001b[38;5;124m_1/\u001b[39m\u001b[38;5;124m\"\u001b[39m\n\u001b[0;32m----> 6\u001b[0m \u001b[43msplitfolders\u001b[49m\u001b[38;5;241;43m.\u001b[39;49m\u001b[43mratio\u001b[49m\u001b[43m(\u001b[49m\n\u001b[1;32m      7\u001b[0m \u001b[43m    \u001b[49m\u001b[43minput_folder\u001b[49m\u001b[43m,\u001b[49m\u001b[43m \u001b[49m\u001b[43moutput_folder\u001b[49m\u001b[43m,\u001b[49m\u001b[43m \u001b[49m\u001b[43mseed\u001b[49m\u001b[38;5;241;43m=\u001b[39;49m\u001b[38;5;241;43m42\u001b[39;49m\u001b[43m,\u001b[49m\u001b[43m \u001b[49m\u001b[43mratio\u001b[49m\u001b[38;5;241;43m=\u001b[39;49m\u001b[43m(\u001b[49m\u001b[38;5;241;43m0.75\u001b[39;49m\u001b[43m,\u001b[49m\u001b[43m \u001b[49m\u001b[38;5;241;43m0.2\u001b[39;49m\u001b[43m,\u001b[49m\u001b[43m \u001b[49m\u001b[38;5;241;43m0.05\u001b[39;49m\u001b[43m)\u001b[49m\u001b[43m,\u001b[49m\u001b[43m \u001b[49m\u001b[43mgroup_prefix\u001b[49m\u001b[38;5;241;43m=\u001b[39;49m\u001b[38;5;28;43;01mNone\u001b[39;49;00m\n\u001b[1;32m      8\u001b[0m \u001b[43m)\u001b[49m\n",
      "File \u001b[0;32m~/miniconda3/envs/long-tfm/lib/python3.10/site-packages/splitfolders/split.py:87\u001b[0m, in \u001b[0;36mratio\u001b[0;34m(input, output, seed, ratio, group_prefix, move)\u001b[0m\n\u001b[1;32m     84\u001b[0m     prog_bar \u001b[38;5;241m=\u001b[39m tqdm(desc\u001b[38;5;241m=\u001b[39m\u001b[38;5;124mf\u001b[39m\u001b[38;5;124m\"\u001b[39m\u001b[38;5;124mCopying files\u001b[39m\u001b[38;5;124m\"\u001b[39m, unit\u001b[38;5;241m=\u001b[39m\u001b[38;5;124m\"\u001b[39m\u001b[38;5;124m files\u001b[39m\u001b[38;5;124m\"\u001b[39m)\n\u001b[1;32m     86\u001b[0m \u001b[38;5;28;01mfor\u001b[39;00m class_dir \u001b[38;5;129;01min\u001b[39;00m list_dirs(\u001b[38;5;28minput\u001b[39m):\n\u001b[0;32m---> 87\u001b[0m     \u001b[43msplit_class_dir_ratio\u001b[49m\u001b[43m(\u001b[49m\n\u001b[1;32m     88\u001b[0m \u001b[43m        \u001b[49m\u001b[43mclass_dir\u001b[49m\u001b[43m,\u001b[49m\n\u001b[1;32m     89\u001b[0m \u001b[43m        \u001b[49m\u001b[43moutput\u001b[49m\u001b[43m,\u001b[49m\n\u001b[1;32m     90\u001b[0m \u001b[43m        \u001b[49m\u001b[43mratio\u001b[49m\u001b[43m,\u001b[49m\n\u001b[1;32m     91\u001b[0m \u001b[43m        \u001b[49m\u001b[43mseed\u001b[49m\u001b[43m,\u001b[49m\n\u001b[1;32m     92\u001b[0m \u001b[43m        \u001b[49m\u001b[43mprog_bar\u001b[49m\u001b[43m \u001b[49m\u001b[38;5;28;43;01mif\u001b[39;49;00m\u001b[43m \u001b[49m\u001b[43muse_tqdm\u001b[49m\u001b[43m \u001b[49m\u001b[38;5;28;43;01melse\u001b[39;49;00m\u001b[43m \u001b[49m\u001b[38;5;28;43;01mNone\u001b[39;49;00m\u001b[43m,\u001b[49m\n\u001b[1;32m     93\u001b[0m \u001b[43m        \u001b[49m\u001b[43mgroup_prefix\u001b[49m\u001b[43m,\u001b[49m\n\u001b[1;32m     94\u001b[0m \u001b[43m        \u001b[49m\u001b[43mmove\u001b[49m\u001b[43m,\u001b[49m\n\u001b[1;32m     95\u001b[0m \u001b[43m    \u001b[49m\u001b[43m)\u001b[49m\n\u001b[1;32m     97\u001b[0m \u001b[38;5;28;01mif\u001b[39;00m use_tqdm:\n\u001b[1;32m     98\u001b[0m     prog_bar\u001b[38;5;241m.\u001b[39mclose()\n",
      "File \u001b[0;32m~/miniconda3/envs/long-tfm/lib/python3.10/site-packages/splitfolders/split.py:240\u001b[0m, in \u001b[0;36msplit_class_dir_ratio\u001b[0;34m(class_dir, output, ratio, seed, prog_bar, group_prefix, move)\u001b[0m\n\u001b[1;32m    237\u001b[0m split_val_idx \u001b[38;5;241m=\u001b[39m split_train_idx \u001b[38;5;241m+\u001b[39m \u001b[38;5;28mint\u001b[39m(ratio[\u001b[38;5;241m1\u001b[39m] \u001b[38;5;241m*\u001b[39m \u001b[38;5;28mlen\u001b[39m(files))\n\u001b[1;32m    239\u001b[0m li \u001b[38;5;241m=\u001b[39m split_files(files, split_train_idx, split_val_idx, \u001b[38;5;28mlen\u001b[39m(ratio) \u001b[38;5;241m==\u001b[39m \u001b[38;5;241m3\u001b[39m)\n\u001b[0;32m--> 240\u001b[0m \u001b[43mcopy_files\u001b[49m\u001b[43m(\u001b[49m\u001b[43mli\u001b[49m\u001b[43m,\u001b[49m\u001b[43m \u001b[49m\u001b[43mclass_dir\u001b[49m\u001b[43m,\u001b[49m\u001b[43m \u001b[49m\u001b[43moutput\u001b[49m\u001b[43m,\u001b[49m\u001b[43m \u001b[49m\u001b[43mprog_bar\u001b[49m\u001b[43m,\u001b[49m\u001b[43m \u001b[49m\u001b[43mmove\u001b[49m\u001b[43m)\u001b[49m\n",
      "File \u001b[0;32m~/miniconda3/envs/long-tfm/lib/python3.10/site-packages/splitfolders/split.py:314\u001b[0m, in \u001b[0;36mcopy_files\u001b[0;34m(files_type, class_dir, output, prog_bar, move)\u001b[0m\n\u001b[1;32m    312\u001b[0m         copy_fun(\u001b[38;5;28mstr\u001b[39m(x), \u001b[38;5;28mstr\u001b[39m(full_path))\n\u001b[1;32m    313\u001b[0m \u001b[38;5;28;01melse\u001b[39;00m:\n\u001b[0;32m--> 314\u001b[0m     \u001b[43mcopy_fun\u001b[49m\u001b[43m(\u001b[49m\u001b[38;5;28;43mstr\u001b[39;49m\u001b[43m(\u001b[49m\u001b[43mf\u001b[49m\u001b[43m)\u001b[49m\u001b[43m,\u001b[49m\u001b[43m \u001b[49m\u001b[38;5;28;43mstr\u001b[39;49m\u001b[43m(\u001b[49m\u001b[43mfull_path\u001b[49m\u001b[43m)\u001b[49m\u001b[43m)\u001b[49m\n",
      "File \u001b[0;32m~/miniconda3/envs/long-tfm/lib/python3.10/shutil.py:434\u001b[0m, in \u001b[0;36mcopy2\u001b[0;34m(src, dst, follow_symlinks)\u001b[0m\n\u001b[1;32m    432\u001b[0m \u001b[38;5;28;01mif\u001b[39;00m os\u001b[38;5;241m.\u001b[39mpath\u001b[38;5;241m.\u001b[39misdir(dst):\n\u001b[1;32m    433\u001b[0m     dst \u001b[38;5;241m=\u001b[39m os\u001b[38;5;241m.\u001b[39mpath\u001b[38;5;241m.\u001b[39mjoin(dst, os\u001b[38;5;241m.\u001b[39mpath\u001b[38;5;241m.\u001b[39mbasename(src))\n\u001b[0;32m--> 434\u001b[0m \u001b[43mcopyfile\u001b[49m\u001b[43m(\u001b[49m\u001b[43msrc\u001b[49m\u001b[43m,\u001b[49m\u001b[43m \u001b[49m\u001b[43mdst\u001b[49m\u001b[43m,\u001b[49m\u001b[43m \u001b[49m\u001b[43mfollow_symlinks\u001b[49m\u001b[38;5;241;43m=\u001b[39;49m\u001b[43mfollow_symlinks\u001b[49m\u001b[43m)\u001b[49m\n\u001b[1;32m    435\u001b[0m copystat(src, dst, follow_symlinks\u001b[38;5;241m=\u001b[39mfollow_symlinks)\n\u001b[1;32m    436\u001b[0m \u001b[38;5;28;01mreturn\u001b[39;00m dst\n",
      "File \u001b[0;32m~/miniconda3/envs/long-tfm/lib/python3.10/shutil.py:267\u001b[0m, in \u001b[0;36mcopyfile\u001b[0;34m(src, dst, follow_symlinks)\u001b[0m\n\u001b[1;32m    265\u001b[0m \u001b[38;5;28;01melif\u001b[39;00m _USE_CP_SENDFILE:\n\u001b[1;32m    266\u001b[0m     \u001b[38;5;28;01mtry\u001b[39;00m:\n\u001b[0;32m--> 267\u001b[0m         \u001b[43m_fastcopy_sendfile\u001b[49m\u001b[43m(\u001b[49m\u001b[43mfsrc\u001b[49m\u001b[43m,\u001b[49m\u001b[43m \u001b[49m\u001b[43mfdst\u001b[49m\u001b[43m)\u001b[49m\n\u001b[1;32m    268\u001b[0m         \u001b[38;5;28;01mreturn\u001b[39;00m dst\n\u001b[1;32m    269\u001b[0m     \u001b[38;5;28;01mexcept\u001b[39;00m _GiveupOnFastCopy:\n",
      "File \u001b[0;32m~/miniconda3/envs/long-tfm/lib/python3.10/shutil.py:156\u001b[0m, in \u001b[0;36m_fastcopy_sendfile\u001b[0;34m(fsrc, fdst)\u001b[0m\n\u001b[1;32m    153\u001b[0m     \u001b[38;5;28;01mraise\u001b[39;00m _GiveupOnFastCopy(err)\n\u001b[1;32m    155\u001b[0m \u001b[38;5;28;01mif\u001b[39;00m err\u001b[38;5;241m.\u001b[39merrno \u001b[38;5;241m==\u001b[39m errno\u001b[38;5;241m.\u001b[39mENOSPC:  \u001b[38;5;66;03m# filesystem is full\u001b[39;00m\n\u001b[0;32m--> 156\u001b[0m     \u001b[38;5;28;01mraise\u001b[39;00m err \u001b[38;5;28;01mfrom\u001b[39;00m\u001b[38;5;250m \u001b[39m\u001b[38;5;28;01mNone\u001b[39;00m\n\u001b[1;32m    158\u001b[0m \u001b[38;5;66;03m# Give up on first call and if no data was copied.\u001b[39;00m\n\u001b[1;32m    159\u001b[0m \u001b[38;5;28;01mif\u001b[39;00m offset \u001b[38;5;241m==\u001b[39m \u001b[38;5;241m0\u001b[39m \u001b[38;5;129;01mand\u001b[39;00m os\u001b[38;5;241m.\u001b[39mlseek(outfd, \u001b[38;5;241m0\u001b[39m, os\u001b[38;5;241m.\u001b[39mSEEK_CUR) \u001b[38;5;241m==\u001b[39m \u001b[38;5;241m0\u001b[39m:\n",
      "File \u001b[0;32m~/miniconda3/envs/long-tfm/lib/python3.10/shutil.py:142\u001b[0m, in \u001b[0;36m_fastcopy_sendfile\u001b[0;34m(fsrc, fdst)\u001b[0m\n\u001b[1;32m    140\u001b[0m \u001b[38;5;28;01mwhile\u001b[39;00m \u001b[38;5;28;01mTrue\u001b[39;00m:\n\u001b[1;32m    141\u001b[0m     \u001b[38;5;28;01mtry\u001b[39;00m:\n\u001b[0;32m--> 142\u001b[0m         sent \u001b[38;5;241m=\u001b[39m \u001b[43mos\u001b[49m\u001b[38;5;241;43m.\u001b[39;49m\u001b[43msendfile\u001b[49m\u001b[43m(\u001b[49m\u001b[43moutfd\u001b[49m\u001b[43m,\u001b[49m\u001b[43m \u001b[49m\u001b[43minfd\u001b[49m\u001b[43m,\u001b[49m\u001b[43m \u001b[49m\u001b[43moffset\u001b[49m\u001b[43m,\u001b[49m\u001b[43m \u001b[49m\u001b[43mblocksize\u001b[49m\u001b[43m)\u001b[49m\n\u001b[1;32m    143\u001b[0m     \u001b[38;5;28;01mexcept\u001b[39;00m \u001b[38;5;167;01mOSError\u001b[39;00m \u001b[38;5;28;01mas\u001b[39;00m err:\n\u001b[1;32m    144\u001b[0m         \u001b[38;5;66;03m# ...in oder to have a more informative exception.\u001b[39;00m\n\u001b[1;32m    145\u001b[0m         err\u001b[38;5;241m.\u001b[39mfilename \u001b[38;5;241m=\u001b[39m fsrc\u001b[38;5;241m.\u001b[39mname\n",
      "\u001b[0;31mOSError\u001b[0m: [Errno 28] No space left on device: '/home/jincan/long_seg/my3DUNet/Data/Brats2024/single_t1c_noCrop/masks/mask_335.npy' -> '/home/jincan/long_seg/my3DUNet/Data/Brats2024/single_t1c_noCrop_1/train/masks/mask_335.npy'"
     ]
    }
   ],
   "source": [
    "import splitfolders\n",
    "input_folder = f\"{base_dir}/\"\n",
    " \n",
    "output_folder = f\"{base_dir}_1/\"\n",
    " \n",
    "splitfolders.ratio(\n",
    "    input_folder, output_folder, seed=42, ratio=(0.75, 0.2, 0.05), group_prefix=None\n",
    ")"
   ]
  },
  {
   "cell_type": "code",
   "execution_count": 3,
   "metadata": {},
   "outputs": [
    {
     "name": "stdout",
     "output_type": "stream",
     "text": [
      "Patient-077_week-000~001\n",
      "Patient-077_week-001~014\n",
      "Patient-077_week-014~026\n",
      "Patient-077_week-026~033\n",
      "Patient-077_week-033~048\n",
      "Patient-077_week-048~062\n",
      "Patient-077_week-062~070\n",
      "Patient-077_week-070~083\n",
      "Patient-082_week-000-1~000-2\n",
      "Patient-082_week-000-2~003\n",
      "Patient-086_week-000~173-1\n",
      "Patient-086_week-173-1~173-2\n",
      "Patient-086_week-173-2~181\n",
      "Patient-091_week-014~026\n"
     ]
    }
   ],
   "source": [
    "import os\n",
    "import shutil\n",
    "\n",
    "base_dir = \"/home/jincan/long_seg/my3DUNet/Data/Imaging_for_3DUNet_long/val\"\n",
    "output_dir = \"/home/jincan/long_seg/my3DUNet/Data/Imaging_for_3DUNet_pair/val\"\n",
    "\n",
    "subj_dir = sorted(os.listdir(base_dir))\n",
    "for subj in subj_dir:\n",
    "    subj_path = os.path.join(base_dir, subj)\n",
    "    tp_list = sorted(os.listdir(subj_path))\n",
    "    for i in range(len(tp_list)-1):\n",
    "        tp1 = tp_list[i]\n",
    "        tp2 = tp_list[i+1]\n",
    "        tp1_path = os.path.join(subj_path, tp1)\n",
    "        tp2_path = os.path.join(subj_path, tp2)\n",
    "        img1_path = os.path.join(tp1_path, \"CT1_image_rig.nii.gz\")\n",
    "        mask1_path = os.path.join(tp1_path, \"CT1_mask_rig.nii.gz\")\n",
    "        img2_path = os.path.join(tp2_path, \"CT1_image_rig.nii.gz\")\n",
    "        mask2_path = os.path.join(tp2_path, \"CT1_mask_rig.nii.gz\")\n",
    "\n",
    "        new_tp_folder_name = tp1 + \"~\"+ tp2[17:]\n",
    "        print(new_tp_folder_name)\n",
    "        new_img_folder = os.path.join(output_dir, \"images\", new_tp_folder_name)\n",
    "        os.makedirs(new_img_folder, exist_ok=True)\n",
    "        new_mask_folder = os.path.join(output_dir, \"labels\", new_tp_folder_name)\n",
    "        os.makedirs(new_mask_folder, exist_ok=True)\n",
    "        new_img1_file = os.path.join(new_img_folder, \"image1_rig.nii.gz\")\n",
    "        new_img2_file = os.path.join(new_img_folder, \"image2_rig.nii.gz\")\n",
    "        shutil.copy(img1_path, new_img1_file)\n",
    "        shutil.copy(img2_path, new_img2_file)\n",
    "        new_mask1_file = os.path.join(new_mask_folder, \"mask1_rig.nii.gz\")\n",
    "        new_mask2_file = os.path.join(new_mask_folder, \"mask2_rig.nii.gz\")\n",
    "        shutil.copy(mask1_path, new_mask1_file)\n",
    "        shutil.copy(mask2_path, new_mask2_file)\n"
   ]
  }
 ],
 "metadata": {
  "kernelspec": {
   "display_name": "long-tfm",
   "language": "python",
   "name": "python3"
  },
  "language_info": {
   "codemirror_mode": {
    "name": "ipython",
    "version": 3
   },
   "file_extension": ".py",
   "mimetype": "text/x-python",
   "name": "python",
   "nbconvert_exporter": "python",
   "pygments_lexer": "ipython3",
   "version": "3.10.16"
  }
 },
 "nbformat": 4,
 "nbformat_minor": 2
}
